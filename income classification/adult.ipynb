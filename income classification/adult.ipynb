{
 "metadata": {
  "language_info": {
   "codemirror_mode": {
    "name": "ipython",
    "version": 3
   },
   "file_extension": ".py",
   "mimetype": "text/x-python",
   "name": "python",
   "nbconvert_exporter": "python",
   "pygments_lexer": "ipython3",
   "version": "3.7.7-final"
  },
  "orig_nbformat": 2,
  "kernelspec": {
   "name": "tensorflow",
   "display_name": "Python 3.7 (tf_gpu)",
   "language": "python"
  }
 },
 "nbformat": 4,
 "nbformat_minor": 2,
 "cells": [
  {
   "cell_type": "code",
   "execution_count": 1,
   "metadata": {},
   "outputs": [],
   "source": [
    "import pandas as pd \n",
    "import numpy as np "
   ]
  },
  {
   "cell_type": "code",
   "execution_count": 2,
   "metadata": {},
   "outputs": [],
   "source": [
    "df = pd.read_csv(r'dataset\\adult.csv')"
   ]
  },
  {
   "cell_type": "code",
   "execution_count": 3,
   "metadata": {},
   "outputs": [
    {
     "output_type": "execute_result",
     "data": {
      "text/plain": [
       "   age  workclass  fnlwgt     education  educational-num      marital-status  \\\n",
       "0   25    Private  226802          11th                7       Never-married   \n",
       "1   38    Private   89814       HS-grad                9  Married-civ-spouse   \n",
       "2   28  Local-gov  336951    Assoc-acdm               12  Married-civ-spouse   \n",
       "3   44    Private  160323  Some-college               10  Married-civ-spouse   \n",
       "4   18          ?  103497  Some-college               10       Never-married   \n",
       "\n",
       "          occupation relationship   race  gender  capital-gain  capital-loss  \\\n",
       "0  Machine-op-inspct    Own-child  Black    Male             0             0   \n",
       "1    Farming-fishing      Husband  White    Male             0             0   \n",
       "2    Protective-serv      Husband  White    Male             0             0   \n",
       "3  Machine-op-inspct      Husband  Black    Male          7688             0   \n",
       "4                  ?    Own-child  White  Female             0             0   \n",
       "\n",
       "   hours-per-week native-country income  \n",
       "0              40  United-States  <=50K  \n",
       "1              50  United-States  <=50K  \n",
       "2              40  United-States   >50K  \n",
       "3              40  United-States   >50K  \n",
       "4              30  United-States  <=50K  "
      ],
      "text/html": "<div>\n<style scoped>\n    .dataframe tbody tr th:only-of-type {\n        vertical-align: middle;\n    }\n\n    .dataframe tbody tr th {\n        vertical-align: top;\n    }\n\n    .dataframe thead th {\n        text-align: right;\n    }\n</style>\n<table border=\"1\" class=\"dataframe\">\n  <thead>\n    <tr style=\"text-align: right;\">\n      <th></th>\n      <th>age</th>\n      <th>workclass</th>\n      <th>fnlwgt</th>\n      <th>education</th>\n      <th>educational-num</th>\n      <th>marital-status</th>\n      <th>occupation</th>\n      <th>relationship</th>\n      <th>race</th>\n      <th>gender</th>\n      <th>capital-gain</th>\n      <th>capital-loss</th>\n      <th>hours-per-week</th>\n      <th>native-country</th>\n      <th>income</th>\n    </tr>\n  </thead>\n  <tbody>\n    <tr>\n      <th>0</th>\n      <td>25</td>\n      <td>Private</td>\n      <td>226802</td>\n      <td>11th</td>\n      <td>7</td>\n      <td>Never-married</td>\n      <td>Machine-op-inspct</td>\n      <td>Own-child</td>\n      <td>Black</td>\n      <td>Male</td>\n      <td>0</td>\n      <td>0</td>\n      <td>40</td>\n      <td>United-States</td>\n      <td>&lt;=50K</td>\n    </tr>\n    <tr>\n      <th>1</th>\n      <td>38</td>\n      <td>Private</td>\n      <td>89814</td>\n      <td>HS-grad</td>\n      <td>9</td>\n      <td>Married-civ-spouse</td>\n      <td>Farming-fishing</td>\n      <td>Husband</td>\n      <td>White</td>\n      <td>Male</td>\n      <td>0</td>\n      <td>0</td>\n      <td>50</td>\n      <td>United-States</td>\n      <td>&lt;=50K</td>\n    </tr>\n    <tr>\n      <th>2</th>\n      <td>28</td>\n      <td>Local-gov</td>\n      <td>336951</td>\n      <td>Assoc-acdm</td>\n      <td>12</td>\n      <td>Married-civ-spouse</td>\n      <td>Protective-serv</td>\n      <td>Husband</td>\n      <td>White</td>\n      <td>Male</td>\n      <td>0</td>\n      <td>0</td>\n      <td>40</td>\n      <td>United-States</td>\n      <td>&gt;50K</td>\n    </tr>\n    <tr>\n      <th>3</th>\n      <td>44</td>\n      <td>Private</td>\n      <td>160323</td>\n      <td>Some-college</td>\n      <td>10</td>\n      <td>Married-civ-spouse</td>\n      <td>Machine-op-inspct</td>\n      <td>Husband</td>\n      <td>Black</td>\n      <td>Male</td>\n      <td>7688</td>\n      <td>0</td>\n      <td>40</td>\n      <td>United-States</td>\n      <td>&gt;50K</td>\n    </tr>\n    <tr>\n      <th>4</th>\n      <td>18</td>\n      <td>?</td>\n      <td>103497</td>\n      <td>Some-college</td>\n      <td>10</td>\n      <td>Never-married</td>\n      <td>?</td>\n      <td>Own-child</td>\n      <td>White</td>\n      <td>Female</td>\n      <td>0</td>\n      <td>0</td>\n      <td>30</td>\n      <td>United-States</td>\n      <td>&lt;=50K</td>\n    </tr>\n  </tbody>\n</table>\n</div>"
     },
     "metadata": {},
     "execution_count": 3
    }
   ],
   "source": [
    "df.head()"
   ]
  },
  {
   "cell_type": "code",
   "execution_count": 4,
   "metadata": {},
   "outputs": [
    {
     "output_type": "execute_result",
     "data": {
      "text/plain": [
       "Index(['age', 'workclass', 'fnlwgt', 'education', 'educational-num',\n",
       "       'marital-status', 'occupation', 'relationship', 'race', 'gender',\n",
       "       'capital-gain', 'capital-loss', 'hours-per-week', 'native-country',\n",
       "       'income'],\n",
       "      dtype='object')"
      ]
     },
     "metadata": {},
     "execution_count": 4
    }
   ],
   "source": [
    "df.columns"
   ]
  },
  {
   "cell_type": "code",
   "execution_count": 5,
   "metadata": {},
   "outputs": [
    {
     "output_type": "stream",
     "name": "stdout",
     "text": [
      "<class 'pandas.core.frame.DataFrame'>\nRangeIndex: 48842 entries, 0 to 48841\nData columns (total 15 columns):\n #   Column           Non-Null Count  Dtype \n---  ------           --------------  ----- \n 0   age              48842 non-null  int64 \n 1   workclass        48842 non-null  object\n 2   fnlwgt           48842 non-null  int64 \n 3   education        48842 non-null  object\n 4   educational-num  48842 non-null  int64 \n 5   marital-status   48842 non-null  object\n 6   occupation       48842 non-null  object\n 7   relationship     48842 non-null  object\n 8   race             48842 non-null  object\n 9   gender           48842 non-null  object\n 10  capital-gain     48842 non-null  int64 \n 11  capital-loss     48842 non-null  int64 \n 12  hours-per-week   48842 non-null  int64 \n 13  native-country   48842 non-null  object\n 14  income           48842 non-null  object\ndtypes: int64(6), object(9)\nmemory usage: 5.6+ MB\n"
     ]
    }
   ],
   "source": [
    "df.info()"
   ]
  },
  {
   "cell_type": "code",
   "execution_count": 6,
   "metadata": {},
   "outputs": [
    {
     "output_type": "stream",
     "name": "stdout",
     "text": [
      "Size of Data 732630\n"
     ]
    }
   ],
   "source": [
    "print(\"Size of Data\" , df.size)"
   ]
  },
  {
   "cell_type": "code",
   "execution_count": 8,
   "metadata": {},
   "outputs": [],
   "source": [
    "# greater25 = df[df.age >= 25]\n",
    "# greater25"
   ]
  },
  {
   "cell_type": "code",
   "execution_count": 9,
   "metadata": {},
   "outputs": [
    {
     "output_type": "stream",
     "name": "stdout",
     "text": [
      "Any Duplicate Data Present ?  True\nTotal Number of duplicate Data :  52\nduplicate data droped\n"
     ]
    }
   ],
   "source": [
    "# Check Whether duplicate data exist\n",
    "check_dup = df.duplicated()\n",
    "print(\"Any Duplicate Data Present ? \", check_dup.any())\n",
    "if(check_dup.any()):\n",
    "    print(\"Total Number of duplicate Data : \" , check_dup.sum())\n",
    "    df.drop_duplicates(inplace=True)\n",
    "    print(\"duplicate data droped\")\n"
   ]
  },
  {
   "cell_type": "code",
   "execution_count": 10,
   "metadata": {},
   "outputs": [
    {
     "output_type": "stream",
     "name": "stdout",
     "text": [
      "Any null values ? \n age                False\nworkclass           True\nfnlwgt             False\neducation          False\neducational-num    False\nmarital-status     False\noccupation          True\nrelationship       False\nrace               False\ngender             False\ncapital-gain       False\ncapital-loss       False\nhours-per-week     False\nnative-country      True\nincome             False\ndtype: bool\n"
     ]
    }
   ],
   "source": [
    "df.replace('?',np.NaN,inplace=True)\n",
    "print(\"Any null values ? \\n\", df.isnull().any())"
   ]
  },
  {
   "cell_type": "code",
   "execution_count": 11,
   "metadata": {},
   "outputs": [
    {
     "output_type": "stream",
     "name": "stdout",
     "text": [
      "Total null values\n age                   0\nworkclass          2795\nfnlwgt                0\neducation             0\neducational-num       0\nmarital-status        0\noccupation         2805\nrelationship          0\nrace                  0\ngender                0\ncapital-gain          0\ncapital-loss          0\nhours-per-week        0\nnative-country      856\nincome                0\ndtype: int64\n"
     ]
    }
   ],
   "source": [
    "print(\"Total null values\\n\" , df.isnull().sum())"
   ]
  },
  {
   "cell_type": "code",
   "execution_count": 12,
   "metadata": {},
   "outputs": [],
   "source": [
    "dataset = df.dropna()"
   ]
  },
  {
   "cell_type": "code",
   "execution_count": 13,
   "metadata": {},
   "outputs": [
    {
     "output_type": "execute_result",
     "data": {
      "text/plain": [
       "age                0\n",
       "workclass          0\n",
       "fnlwgt             0\n",
       "education          0\n",
       "educational-num    0\n",
       "marital-status     0\n",
       "occupation         0\n",
       "relationship       0\n",
       "race               0\n",
       "gender             0\n",
       "capital-gain       0\n",
       "capital-loss       0\n",
       "hours-per-week     0\n",
       "native-country     0\n",
       "income             0\n",
       "dtype: int64"
      ]
     },
     "metadata": {},
     "execution_count": 13
    }
   ],
   "source": [
    "dataset.isna().sum()"
   ]
  },
  {
   "cell_type": "code",
   "execution_count": 14,
   "metadata": {},
   "outputs": [
    {
     "output_type": "execute_result",
     "data": {
      "text/plain": [
       "                age        fnlwgt  educational-num  capital-gain  \\\n",
       "count  45175.000000  4.517500e+04     45175.000000  45175.000000   \n",
       "mean      38.556170  1.897388e+05        10.119314   1102.576270   \n",
       "std       13.215349  1.056524e+05         2.551740   7510.249876   \n",
       "min       17.000000  1.349200e+04         1.000000      0.000000   \n",
       "25%       28.000000  1.173925e+05         9.000000      0.000000   \n",
       "50%       37.000000  1.783120e+05        10.000000      0.000000   \n",
       "75%       47.000000  2.379030e+05        13.000000      0.000000   \n",
       "max       90.000000  1.490400e+06        16.000000  99999.000000   \n",
       "\n",
       "       capital-loss  hours-per-week  \n",
       "count  45175.000000    45175.000000  \n",
       "mean      88.687593       40.942512  \n",
       "std      405.156611       12.007730  \n",
       "min        0.000000        1.000000  \n",
       "25%        0.000000       40.000000  \n",
       "50%        0.000000       40.000000  \n",
       "75%        0.000000       45.000000  \n",
       "max     4356.000000       99.000000  "
      ],
      "text/html": "<div>\n<style scoped>\n    .dataframe tbody tr th:only-of-type {\n        vertical-align: middle;\n    }\n\n    .dataframe tbody tr th {\n        vertical-align: top;\n    }\n\n    .dataframe thead th {\n        text-align: right;\n    }\n</style>\n<table border=\"1\" class=\"dataframe\">\n  <thead>\n    <tr style=\"text-align: right;\">\n      <th></th>\n      <th>age</th>\n      <th>fnlwgt</th>\n      <th>educational-num</th>\n      <th>capital-gain</th>\n      <th>capital-loss</th>\n      <th>hours-per-week</th>\n    </tr>\n  </thead>\n  <tbody>\n    <tr>\n      <th>count</th>\n      <td>45175.000000</td>\n      <td>4.517500e+04</td>\n      <td>45175.000000</td>\n      <td>45175.000000</td>\n      <td>45175.000000</td>\n      <td>45175.000000</td>\n    </tr>\n    <tr>\n      <th>mean</th>\n      <td>38.556170</td>\n      <td>1.897388e+05</td>\n      <td>10.119314</td>\n      <td>1102.576270</td>\n      <td>88.687593</td>\n      <td>40.942512</td>\n    </tr>\n    <tr>\n      <th>std</th>\n      <td>13.215349</td>\n      <td>1.056524e+05</td>\n      <td>2.551740</td>\n      <td>7510.249876</td>\n      <td>405.156611</td>\n      <td>12.007730</td>\n    </tr>\n    <tr>\n      <th>min</th>\n      <td>17.000000</td>\n      <td>1.349200e+04</td>\n      <td>1.000000</td>\n      <td>0.000000</td>\n      <td>0.000000</td>\n      <td>1.000000</td>\n    </tr>\n    <tr>\n      <th>25%</th>\n      <td>28.000000</td>\n      <td>1.173925e+05</td>\n      <td>9.000000</td>\n      <td>0.000000</td>\n      <td>0.000000</td>\n      <td>40.000000</td>\n    </tr>\n    <tr>\n      <th>50%</th>\n      <td>37.000000</td>\n      <td>1.783120e+05</td>\n      <td>10.000000</td>\n      <td>0.000000</td>\n      <td>0.000000</td>\n      <td>40.000000</td>\n    </tr>\n    <tr>\n      <th>75%</th>\n      <td>47.000000</td>\n      <td>2.379030e+05</td>\n      <td>13.000000</td>\n      <td>0.000000</td>\n      <td>0.000000</td>\n      <td>45.000000</td>\n    </tr>\n    <tr>\n      <th>max</th>\n      <td>90.000000</td>\n      <td>1.490400e+06</td>\n      <td>16.000000</td>\n      <td>99999.000000</td>\n      <td>4356.000000</td>\n      <td>99.000000</td>\n    </tr>\n  </tbody>\n</table>\n</div>"
     },
     "metadata": {},
     "execution_count": 14
    }
   ],
   "source": [
    "dataset.describe()"
   ]
  },
  {
   "cell_type": "code",
   "execution_count": 15,
   "metadata": {},
   "outputs": [],
   "source": [
    "dataset['age'] = dataset['age'].astype(float)\n",
    "dataset['hours-per-week'] = dataset['hours-per-week'].astype(float)"
   ]
  },
  {
   "cell_type": "code",
   "execution_count": 16,
   "metadata": {},
   "outputs": [
    {
     "output_type": "stream",
     "name": "stdout",
     "text": [
      "<class 'pandas.core.frame.DataFrame'>\nInt64Index: 45175 entries, 0 to 48841\nData columns (total 15 columns):\n #   Column           Non-Null Count  Dtype  \n---  ------           --------------  -----  \n 0   age              45175 non-null  float64\n 1   workclass        45175 non-null  object \n 2   fnlwgt           45175 non-null  int64  \n 3   education        45175 non-null  object \n 4   educational-num  45175 non-null  int64  \n 5   marital-status   45175 non-null  object \n 6   occupation       45175 non-null  object \n 7   relationship     45175 non-null  object \n 8   race             45175 non-null  object \n 9   gender           45175 non-null  object \n 10  capital-gain     45175 non-null  int64  \n 11  capital-loss     45175 non-null  int64  \n 12  hours-per-week   45175 non-null  float64\n 13  native-country   45175 non-null  object \n 14  income           45175 non-null  object \ndtypes: float64(2), int64(4), object(9)\nmemory usage: 5.5+ MB\n"
     ]
    }
   ],
   "source": [
    "dataset.info()"
   ]
  },
  {
   "cell_type": "code",
   "execution_count": 17,
   "metadata": {},
   "outputs": [
    {
     "output_type": "stream",
     "name": "stdout",
     "text": [
      "workclass ['Private' 'Local-gov' 'Self-emp-not-inc' 'Federal-gov' 'State-gov'\n 'Self-emp-inc' 'Without-pay']\nworkclass ['Private' 'Local-gov' 'Self-emp-not-inc' 'Federal-gov' 'State-gov'\n 'Self-emp-inc' 'Without-pay']\noccupation ['Machine-op-inspct' 'Farming-fishing' 'Protective-serv' 'Other-service'\n 'Prof-specialty' 'Craft-repair' 'Adm-clerical' 'Exec-managerial'\n 'Tech-support' 'Sales' 'Priv-house-serv' 'Transport-moving'\n 'Handlers-cleaners' 'Armed-Forces']\nrelationship ['Own-child' 'Husband' 'Not-in-family' 'Unmarried' 'Wife' 'Other-relative']\nrace ['Black' 'White' 'Other' 'Amer-Indian-Eskimo' 'Asian-Pac-Islander']\ngender ['Male' 'Female']\nnative-country ['United-States' 'Peru' 'Guatemala' 'Mexico' 'Dominican-Republic'\n 'Ireland' 'Germany' 'Philippines' 'Thailand' 'Haiti' 'El-Salvador'\n 'Puerto-Rico' 'Vietnam' 'South' 'Columbia' 'Japan' 'India' 'Cambodia'\n 'Poland' 'Laos' 'England' 'Cuba' 'Taiwan' 'Italy' 'Canada' 'Portugal'\n 'China' 'Nicaragua' 'Honduras' 'Iran' 'Scotland' 'Jamaica' 'Ecuador'\n 'Yugoslavia' 'Hungary' 'Hong' 'Greece' 'Trinadad&Tobago'\n 'Outlying-US(Guam-USVI-etc)' 'France' 'Holand-Netherlands']\npredclass ['<=50K' '>50K']\n"
     ]
    }
   ],
   "source": [
    "print('workclass',dataset.workclass.unique())\n",
    "\n",
    "print('workclass',dataset.workclass.unique())\n",
    "print('occupation',dataset.occupation.unique())\n",
    "print('relationship',dataset.relationship.unique())\n",
    "print('race',dataset.race.unique())\n",
    "print('gender',dataset.gender.unique())\n",
    "print('native-country',dataset['native-country'].unique())\n",
    "print('predclass',dataset.income.unique())"
   ]
  },
  {
   "cell_type": "code",
   "execution_count": 18,
   "metadata": {},
   "outputs": [],
   "source": [
    "dataset['income'] = dataset['income'].map({'>50K' : 1 , '<=50K' : 0})"
   ]
  },
  {
   "cell_type": "code",
   "execution_count": 19,
   "metadata": {},
   "outputs": [
    {
     "output_type": "stream",
     "name": "stdout",
     "text": [
      "education ['11th' 'HS-grad' 'Assoc-acdm' 'Some-college' '10th' 'Prof-school'\n '7th-8th' 'Bachelors' 'Masters' '5th-6th' 'Assoc-voc' '9th' 'Doctorate'\n '12th' '1st-4th' 'Preschool']\n"
     ]
    }
   ],
   "source": [
    "print('education',dataset.education.unique())"
   ]
  },
  {
   "cell_type": "code",
   "execution_count": 20,
   "metadata": {},
   "outputs": [],
   "source": [
    "education_dir = {\n",
    "    '11th' : 'dropout',\n",
    "    'HS-grad' : 'HighGrad',\n",
    "    'Assoc-acdm' : 'CommunityCollege',\n",
    "    'Some-college' : 'CommunityCollege',\n",
    "    '10th'  : 'dropout',\n",
    "    'Prof-school' :'Masters',\n",
    "    '7th-8th' : 'dropout',\n",
    "    'Bachelors' : 'Bachelors',\n",
    "    'Masters'  :'Masters',\n",
    "    '5th-6th'  :'dropout',\n",
    "    'Assoc-voc'  : 'CommunityCollege',\n",
    "    '9th'  :'dropout',\n",
    "    'Doctorate' :'Masters',\n",
    "    '12th' :'dropout',\n",
    "    '1st-4th' : 'dropout',\n",
    "    'Preschool' :'dropout'\n",
    "}\n",
    "dataset['education'].astype(str)\n",
    "dataset['education'] = dataset['education'].map(education_dir)"
   ]
  },
  {
   "cell_type": "code",
   "execution_count": 21,
   "metadata": {},
   "outputs": [
    {
     "output_type": "stream",
     "name": "stdout",
     "text": [
      "marital-status ['Never-married' 'Married-civ-spouse' 'Widowed' 'Separated' 'Divorced'\n 'Married-spouse-absent' 'Married-AF-spouse']\n"
     ]
    }
   ],
   "source": [
    " print('marital-status',dataset['marital-status'].unique())"
   ]
  },
  {
   "cell_type": "code",
   "execution_count": 22,
   "metadata": {},
   "outputs": [],
   "source": [
    "marital_status_dir = {\n",
    "    'Never-married' :'NotMarried',\n",
    "    'Married-civ-spouse': 'Married',\n",
    "    'Widowed': 'Widowed',\n",
    "    'Separated': 'Separated',\n",
    "    'Divorced':'Separated',\n",
    "    'Married-spouse-absent' :'Married',\n",
    "    'Married-AF-spouse' : 'Married'\n",
    "}\n",
    "dataset['marital-status'].astype(str)\n",
    "dataset['marital-status'] = dataset['marital-status'].map(marital_status_dir)"
   ]
  },
  {
   "cell_type": "code",
   "execution_count": 23,
   "metadata": {},
   "outputs": [],
   "source": [
    "dataset_copy = dataset.copy()"
   ]
  },
  {
   "cell_type": "code",
   "execution_count": 24,
   "metadata": {},
   "outputs": [],
   "source": [
    "#Assigning the numeric values to the string type variables\n",
    "from sklearn.preprocessing import LabelEncoder\n",
    "number = LabelEncoder()\n",
    "# number.fit(dataset['education'])\n",
    "# number.transform(['dropout'])\n",
    "dataset_copy['workclass'] = number.fit_transform(dataset_copy['workclass'])\n",
    "dataset_copy['education'] = number.fit_transform(dataset_copy['education'])\n",
    "dataset_copy['marital-status'] = number.fit_transform(dataset_copy['marital-status'])\n",
    "dataset_copy['occupation'] = number.fit_transform(dataset_copy['occupation'])\n",
    "dataset_copy['relationship'] = number.fit_transform(dataset_copy['relationship'])\n",
    "dataset_copy['race'] = number.fit_transform(dataset_copy['race'])\n",
    "dataset_copy['gender'] = number.fit_transform(dataset_copy['gender'])\n",
    "dataset_copy['native-country'] = number.fit_transform(dataset_copy['native-country'])\n",
    "dataset_copy['income'] = number.fit_transform(dataset_copy['income'])"
   ]
  },
  {
   "cell_type": "code",
   "execution_count": 25,
   "metadata": {},
   "outputs": [
    {
     "output_type": "execute_result",
     "data": {
      "text/plain": [
       "0        41385\n",
       "15024      498\n",
       "7688       391\n",
       "7298       351\n",
       "99999      229\n",
       "         ...  \n",
       "1731         1\n",
       "22040        1\n",
       "7262         1\n",
       "1639         1\n",
       "2387         1\n",
       "Name: capital-gain, Length: 121, dtype: int64"
      ]
     },
     "metadata": {},
     "execution_count": 25
    }
   ],
   "source": [
    "dataset['capital-gain'].value_counts()"
   ]
  },
  {
   "cell_type": "code",
   "execution_count": 26,
   "metadata": {},
   "outputs": [
    {
     "output_type": "execute_result",
     "data": {
      "text/plain": [
       "    age  workclass  fnlwgt         education  educational-num marital-status  \\\n",
       "0  25.0    Private  226802           dropout                7     NotMarried   \n",
       "1  38.0    Private   89814          HighGrad                9        Married   \n",
       "2  28.0  Local-gov  336951  CommunityCollege               12        Married   \n",
       "3  44.0    Private  160323  CommunityCollege               10        Married   \n",
       "5  34.0    Private  198693           dropout                6     NotMarried   \n",
       "\n",
       "          occupation   relationship   race gender  capital-gain  capital-loss  \\\n",
       "0  Machine-op-inspct      Own-child  Black   Male             0             0   \n",
       "1    Farming-fishing        Husband  White   Male             0             0   \n",
       "2    Protective-serv        Husband  White   Male             0             0   \n",
       "3  Machine-op-inspct        Husband  Black   Male          7688             0   \n",
       "5      Other-service  Not-in-family  White   Male             0             0   \n",
       "\n",
       "   hours-per-week native-country  income  \n",
       "0            40.0  United-States       0  \n",
       "1            50.0  United-States       0  \n",
       "2            40.0  United-States       1  \n",
       "3            40.0  United-States       1  \n",
       "5            30.0  United-States       0  "
      ],
      "text/html": "<div>\n<style scoped>\n    .dataframe tbody tr th:only-of-type {\n        vertical-align: middle;\n    }\n\n    .dataframe tbody tr th {\n        vertical-align: top;\n    }\n\n    .dataframe thead th {\n        text-align: right;\n    }\n</style>\n<table border=\"1\" class=\"dataframe\">\n  <thead>\n    <tr style=\"text-align: right;\">\n      <th></th>\n      <th>age</th>\n      <th>workclass</th>\n      <th>fnlwgt</th>\n      <th>education</th>\n      <th>educational-num</th>\n      <th>marital-status</th>\n      <th>occupation</th>\n      <th>relationship</th>\n      <th>race</th>\n      <th>gender</th>\n      <th>capital-gain</th>\n      <th>capital-loss</th>\n      <th>hours-per-week</th>\n      <th>native-country</th>\n      <th>income</th>\n    </tr>\n  </thead>\n  <tbody>\n    <tr>\n      <th>0</th>\n      <td>25.0</td>\n      <td>Private</td>\n      <td>226802</td>\n      <td>dropout</td>\n      <td>7</td>\n      <td>NotMarried</td>\n      <td>Machine-op-inspct</td>\n      <td>Own-child</td>\n      <td>Black</td>\n      <td>Male</td>\n      <td>0</td>\n      <td>0</td>\n      <td>40.0</td>\n      <td>United-States</td>\n      <td>0</td>\n    </tr>\n    <tr>\n      <th>1</th>\n      <td>38.0</td>\n      <td>Private</td>\n      <td>89814</td>\n      <td>HighGrad</td>\n      <td>9</td>\n      <td>Married</td>\n      <td>Farming-fishing</td>\n      <td>Husband</td>\n      <td>White</td>\n      <td>Male</td>\n      <td>0</td>\n      <td>0</td>\n      <td>50.0</td>\n      <td>United-States</td>\n      <td>0</td>\n    </tr>\n    <tr>\n      <th>2</th>\n      <td>28.0</td>\n      <td>Local-gov</td>\n      <td>336951</td>\n      <td>CommunityCollege</td>\n      <td>12</td>\n      <td>Married</td>\n      <td>Protective-serv</td>\n      <td>Husband</td>\n      <td>White</td>\n      <td>Male</td>\n      <td>0</td>\n      <td>0</td>\n      <td>40.0</td>\n      <td>United-States</td>\n      <td>1</td>\n    </tr>\n    <tr>\n      <th>3</th>\n      <td>44.0</td>\n      <td>Private</td>\n      <td>160323</td>\n      <td>CommunityCollege</td>\n      <td>10</td>\n      <td>Married</td>\n      <td>Machine-op-inspct</td>\n      <td>Husband</td>\n      <td>Black</td>\n      <td>Male</td>\n      <td>7688</td>\n      <td>0</td>\n      <td>40.0</td>\n      <td>United-States</td>\n      <td>1</td>\n    </tr>\n    <tr>\n      <th>5</th>\n      <td>34.0</td>\n      <td>Private</td>\n      <td>198693</td>\n      <td>dropout</td>\n      <td>6</td>\n      <td>NotMarried</td>\n      <td>Other-service</td>\n      <td>Not-in-family</td>\n      <td>White</td>\n      <td>Male</td>\n      <td>0</td>\n      <td>0</td>\n      <td>30.0</td>\n      <td>United-States</td>\n      <td>0</td>\n    </tr>\n  </tbody>\n</table>\n</div>"
     },
     "metadata": {},
     "execution_count": 26
    }
   ],
   "source": [
    "dataset.head()"
   ]
  },
  {
   "cell_type": "code",
   "execution_count": 27,
   "metadata": {},
   "outputs": [
    {
     "output_type": "execute_result",
     "data": {
      "text/plain": [
       "     age  workclass  fnlwgt  education  educational-num  marital-status  \\\n",
       "0   25.0          2  226802          4                7               1   \n",
       "1   38.0          2   89814          2                9               0   \n",
       "2   28.0          1  336951          1               12               0   \n",
       "3   44.0          2  160323          1               10               0   \n",
       "5   34.0          2  198693          4                6               1   \n",
       "7   63.0          4  104626          3               15               0   \n",
       "8   24.0          2  369667          1               10               1   \n",
       "9   55.0          2  104996          4                4               0   \n",
       "10  65.0          2  184454          2                9               0   \n",
       "11  36.0          0  212465          0               13               0   \n",
       "12  26.0          2   82091          2                9               1   \n",
       "14  48.0          2  279724          2                9               0   \n",
       "15  43.0          2  346189          3               14               0   \n",
       "16  20.0          5  444554          1               10               1   \n",
       "17  43.0          2  128354          2                9               0   \n",
       "18  37.0          2   60548          2                9               3   \n",
       "20  34.0          2  107914          0               13               0   \n",
       "21  34.0          2  238588          1               10               1   \n",
       "23  25.0          2  220931          0               13               1   \n",
       "24  25.0          2  205947          0               13               0   \n",
       "\n",
       "    occupation  relationship  race  gender  capital-gain  capital-loss  \\\n",
       "0            6             3     2       1             0             0   \n",
       "1            4             0     4       1             0             0   \n",
       "2           10             0     4       1             0             0   \n",
       "3            6             0     2       1          7688             0   \n",
       "5            7             1     4       1             0             0   \n",
       "7            9             0     4       1          3103             0   \n",
       "8            7             4     4       0             0             0   \n",
       "9            2             0     4       1             0             0   \n",
       "10           6             0     4       1          6418             0   \n",
       "11           0             0     4       1             0             0   \n",
       "12           0             1     4       0             0             0   \n",
       "14           6             0     4       1          3103             0   \n",
       "15           3             0     4       1             0             0   \n",
       "16           7             3     4       1             0             0   \n",
       "17           0             5     4       0             0             0   \n",
       "18           6             4     4       0             0             0   \n",
       "20          12             0     4       1             0             0   \n",
       "21           7             3     2       0             0             0   \n",
       "23           9             1     4       1             0             0   \n",
       "24           9             0     4       1             0             0   \n",
       "\n",
       "    hours-per-week  native-country  income  \n",
       "0             40.0              38       0  \n",
       "1             50.0              38       0  \n",
       "2             40.0              38       1  \n",
       "3             40.0              38       1  \n",
       "5             30.0              38       0  \n",
       "7             32.0              38       1  \n",
       "8             40.0              38       0  \n",
       "9             10.0              38       0  \n",
       "10            40.0              38       1  \n",
       "11            40.0              38       0  \n",
       "12            39.0              38       0  \n",
       "14            48.0              38       1  \n",
       "15            50.0              38       1  \n",
       "16            25.0              38       0  \n",
       "17            30.0              38       0  \n",
       "18            20.0              38       0  \n",
       "20            47.0              38       1  \n",
       "21            35.0              38       0  \n",
       "23            43.0              28       0  \n",
       "24            40.0              38       0  "
      ],
      "text/html": "<div>\n<style scoped>\n    .dataframe tbody tr th:only-of-type {\n        vertical-align: middle;\n    }\n\n    .dataframe tbody tr th {\n        vertical-align: top;\n    }\n\n    .dataframe thead th {\n        text-align: right;\n    }\n</style>\n<table border=\"1\" class=\"dataframe\">\n  <thead>\n    <tr style=\"text-align: right;\">\n      <th></th>\n      <th>age</th>\n      <th>workclass</th>\n      <th>fnlwgt</th>\n      <th>education</th>\n      <th>educational-num</th>\n      <th>marital-status</th>\n      <th>occupation</th>\n      <th>relationship</th>\n      <th>race</th>\n      <th>gender</th>\n      <th>capital-gain</th>\n      <th>capital-loss</th>\n      <th>hours-per-week</th>\n      <th>native-country</th>\n      <th>income</th>\n    </tr>\n  </thead>\n  <tbody>\n    <tr>\n      <th>0</th>\n      <td>25.0</td>\n      <td>2</td>\n      <td>226802</td>\n      <td>4</td>\n      <td>7</td>\n      <td>1</td>\n      <td>6</td>\n      <td>3</td>\n      <td>2</td>\n      <td>1</td>\n      <td>0</td>\n      <td>0</td>\n      <td>40.0</td>\n      <td>38</td>\n      <td>0</td>\n    </tr>\n    <tr>\n      <th>1</th>\n      <td>38.0</td>\n      <td>2</td>\n      <td>89814</td>\n      <td>2</td>\n      <td>9</td>\n      <td>0</td>\n      <td>4</td>\n      <td>0</td>\n      <td>4</td>\n      <td>1</td>\n      <td>0</td>\n      <td>0</td>\n      <td>50.0</td>\n      <td>38</td>\n      <td>0</td>\n    </tr>\n    <tr>\n      <th>2</th>\n      <td>28.0</td>\n      <td>1</td>\n      <td>336951</td>\n      <td>1</td>\n      <td>12</td>\n      <td>0</td>\n      <td>10</td>\n      <td>0</td>\n      <td>4</td>\n      <td>1</td>\n      <td>0</td>\n      <td>0</td>\n      <td>40.0</td>\n      <td>38</td>\n      <td>1</td>\n    </tr>\n    <tr>\n      <th>3</th>\n      <td>44.0</td>\n      <td>2</td>\n      <td>160323</td>\n      <td>1</td>\n      <td>10</td>\n      <td>0</td>\n      <td>6</td>\n      <td>0</td>\n      <td>2</td>\n      <td>1</td>\n      <td>7688</td>\n      <td>0</td>\n      <td>40.0</td>\n      <td>38</td>\n      <td>1</td>\n    </tr>\n    <tr>\n      <th>5</th>\n      <td>34.0</td>\n      <td>2</td>\n      <td>198693</td>\n      <td>4</td>\n      <td>6</td>\n      <td>1</td>\n      <td>7</td>\n      <td>1</td>\n      <td>4</td>\n      <td>1</td>\n      <td>0</td>\n      <td>0</td>\n      <td>30.0</td>\n      <td>38</td>\n      <td>0</td>\n    </tr>\n    <tr>\n      <th>7</th>\n      <td>63.0</td>\n      <td>4</td>\n      <td>104626</td>\n      <td>3</td>\n      <td>15</td>\n      <td>0</td>\n      <td>9</td>\n      <td>0</td>\n      <td>4</td>\n      <td>1</td>\n      <td>3103</td>\n      <td>0</td>\n      <td>32.0</td>\n      <td>38</td>\n      <td>1</td>\n    </tr>\n    <tr>\n      <th>8</th>\n      <td>24.0</td>\n      <td>2</td>\n      <td>369667</td>\n      <td>1</td>\n      <td>10</td>\n      <td>1</td>\n      <td>7</td>\n      <td>4</td>\n      <td>4</td>\n      <td>0</td>\n      <td>0</td>\n      <td>0</td>\n      <td>40.0</td>\n      <td>38</td>\n      <td>0</td>\n    </tr>\n    <tr>\n      <th>9</th>\n      <td>55.0</td>\n      <td>2</td>\n      <td>104996</td>\n      <td>4</td>\n      <td>4</td>\n      <td>0</td>\n      <td>2</td>\n      <td>0</td>\n      <td>4</td>\n      <td>1</td>\n      <td>0</td>\n      <td>0</td>\n      <td>10.0</td>\n      <td>38</td>\n      <td>0</td>\n    </tr>\n    <tr>\n      <th>10</th>\n      <td>65.0</td>\n      <td>2</td>\n      <td>184454</td>\n      <td>2</td>\n      <td>9</td>\n      <td>0</td>\n      <td>6</td>\n      <td>0</td>\n      <td>4</td>\n      <td>1</td>\n      <td>6418</td>\n      <td>0</td>\n      <td>40.0</td>\n      <td>38</td>\n      <td>1</td>\n    </tr>\n    <tr>\n      <th>11</th>\n      <td>36.0</td>\n      <td>0</td>\n      <td>212465</td>\n      <td>0</td>\n      <td>13</td>\n      <td>0</td>\n      <td>0</td>\n      <td>0</td>\n      <td>4</td>\n      <td>1</td>\n      <td>0</td>\n      <td>0</td>\n      <td>40.0</td>\n      <td>38</td>\n      <td>0</td>\n    </tr>\n    <tr>\n      <th>12</th>\n      <td>26.0</td>\n      <td>2</td>\n      <td>82091</td>\n      <td>2</td>\n      <td>9</td>\n      <td>1</td>\n      <td>0</td>\n      <td>1</td>\n      <td>4</td>\n      <td>0</td>\n      <td>0</td>\n      <td>0</td>\n      <td>39.0</td>\n      <td>38</td>\n      <td>0</td>\n    </tr>\n    <tr>\n      <th>14</th>\n      <td>48.0</td>\n      <td>2</td>\n      <td>279724</td>\n      <td>2</td>\n      <td>9</td>\n      <td>0</td>\n      <td>6</td>\n      <td>0</td>\n      <td>4</td>\n      <td>1</td>\n      <td>3103</td>\n      <td>0</td>\n      <td>48.0</td>\n      <td>38</td>\n      <td>1</td>\n    </tr>\n    <tr>\n      <th>15</th>\n      <td>43.0</td>\n      <td>2</td>\n      <td>346189</td>\n      <td>3</td>\n      <td>14</td>\n      <td>0</td>\n      <td>3</td>\n      <td>0</td>\n      <td>4</td>\n      <td>1</td>\n      <td>0</td>\n      <td>0</td>\n      <td>50.0</td>\n      <td>38</td>\n      <td>1</td>\n    </tr>\n    <tr>\n      <th>16</th>\n      <td>20.0</td>\n      <td>5</td>\n      <td>444554</td>\n      <td>1</td>\n      <td>10</td>\n      <td>1</td>\n      <td>7</td>\n      <td>3</td>\n      <td>4</td>\n      <td>1</td>\n      <td>0</td>\n      <td>0</td>\n      <td>25.0</td>\n      <td>38</td>\n      <td>0</td>\n    </tr>\n    <tr>\n      <th>17</th>\n      <td>43.0</td>\n      <td>2</td>\n      <td>128354</td>\n      <td>2</td>\n      <td>9</td>\n      <td>0</td>\n      <td>0</td>\n      <td>5</td>\n      <td>4</td>\n      <td>0</td>\n      <td>0</td>\n      <td>0</td>\n      <td>30.0</td>\n      <td>38</td>\n      <td>0</td>\n    </tr>\n    <tr>\n      <th>18</th>\n      <td>37.0</td>\n      <td>2</td>\n      <td>60548</td>\n      <td>2</td>\n      <td>9</td>\n      <td>3</td>\n      <td>6</td>\n      <td>4</td>\n      <td>4</td>\n      <td>0</td>\n      <td>0</td>\n      <td>0</td>\n      <td>20.0</td>\n      <td>38</td>\n      <td>0</td>\n    </tr>\n    <tr>\n      <th>20</th>\n      <td>34.0</td>\n      <td>2</td>\n      <td>107914</td>\n      <td>0</td>\n      <td>13</td>\n      <td>0</td>\n      <td>12</td>\n      <td>0</td>\n      <td>4</td>\n      <td>1</td>\n      <td>0</td>\n      <td>0</td>\n      <td>47.0</td>\n      <td>38</td>\n      <td>1</td>\n    </tr>\n    <tr>\n      <th>21</th>\n      <td>34.0</td>\n      <td>2</td>\n      <td>238588</td>\n      <td>1</td>\n      <td>10</td>\n      <td>1</td>\n      <td>7</td>\n      <td>3</td>\n      <td>2</td>\n      <td>0</td>\n      <td>0</td>\n      <td>0</td>\n      <td>35.0</td>\n      <td>38</td>\n      <td>0</td>\n    </tr>\n    <tr>\n      <th>23</th>\n      <td>25.0</td>\n      <td>2</td>\n      <td>220931</td>\n      <td>0</td>\n      <td>13</td>\n      <td>1</td>\n      <td>9</td>\n      <td>1</td>\n      <td>4</td>\n      <td>1</td>\n      <td>0</td>\n      <td>0</td>\n      <td>43.0</td>\n      <td>28</td>\n      <td>0</td>\n    </tr>\n    <tr>\n      <th>24</th>\n      <td>25.0</td>\n      <td>2</td>\n      <td>205947</td>\n      <td>0</td>\n      <td>13</td>\n      <td>0</td>\n      <td>9</td>\n      <td>0</td>\n      <td>4</td>\n      <td>1</td>\n      <td>0</td>\n      <td>0</td>\n      <td>40.0</td>\n      <td>38</td>\n      <td>0</td>\n    </tr>\n  </tbody>\n</table>\n</div>"
     },
     "metadata": {},
     "execution_count": 27
    }
   ],
   "source": [
    "dataset_copy.head(20)"
   ]
  },
  {
   "cell_type": "code",
   "execution_count": 28,
   "metadata": {},
   "outputs": [],
   "source": [
    "dataset_copy['age_bin'] = pd.cut(dataset_copy['age'] , 20)"
   ]
  },
  {
   "cell_type": "code",
   "execution_count": 29,
   "metadata": {},
   "outputs": [
    {
     "output_type": "execute_result",
     "data": {
      "text/plain": [
       "0        (24.3, 27.95]\n",
       "1        (35.25, 38.9]\n",
       "2        (27.95, 31.6]\n",
       "3        (42.55, 46.2]\n",
       "5        (31.6, 35.25]\n",
       "             ...      \n",
       "48837    (24.3, 27.95]\n",
       "48838    (38.9, 42.55]\n",
       "48839    (57.15, 60.8]\n",
       "48840    (20.65, 24.3]\n",
       "48841    (49.85, 53.5]\n",
       "Name: age_bin, Length: 45175, dtype: category\n",
       "Categories (20, interval[float64]): [(16.927, 20.65] < (20.65, 24.3] < (24.3, 27.95] < (27.95, 31.6] ... (75.4, 79.05] < (79.05, 82.7] < (82.7, 86.35] < (86.35, 90.0]]"
      ]
     },
     "metadata": {},
     "execution_count": 29
    }
   ],
   "source": [
    "dataset_copy['age_bin']"
   ]
  },
  {
   "cell_type": "code",
   "execution_count": 30,
   "metadata": {},
   "outputs": [],
   "source": [
    "dataset_copy['hours-per-week_bin'] = pd.cut(dataset_copy['hours-per-week'] , 10)"
   ]
  },
  {
   "cell_type": "code",
   "execution_count": 31,
   "metadata": {},
   "outputs": [
    {
     "output_type": "execute_result",
     "data": {
      "text/plain": [
       "   income        age\n",
       "1       1  44.006785\n",
       "0       0  36.758926"
      ],
      "text/html": "<div>\n<style scoped>\n    .dataframe tbody tr th:only-of-type {\n        vertical-align: middle;\n    }\n\n    .dataframe tbody tr th {\n        vertical-align: top;\n    }\n\n    .dataframe thead th {\n        text-align: right;\n    }\n</style>\n<table border=\"1\" class=\"dataframe\">\n  <thead>\n    <tr style=\"text-align: right;\">\n      <th></th>\n      <th>income</th>\n      <th>age</th>\n    </tr>\n  </thead>\n  <tbody>\n    <tr>\n      <th>1</th>\n      <td>1</td>\n      <td>44.006785</td>\n    </tr>\n    <tr>\n      <th>0</th>\n      <td>0</td>\n      <td>36.758926</td>\n    </tr>\n  </tbody>\n</table>\n</div>"
     },
     "metadata": {},
     "execution_count": 31
    }
   ],
   "source": [
    "dataset_copy[['income' , 'age']].groupby(['income'] , as_index = False).mean().sort_values(by = 'age' , ascending = False)"
   ]
  },
  {
   "cell_type": "code",
   "execution_count": 32,
   "metadata": {},
   "outputs": [
    {
     "output_type": "execute_result",
     "data": {
      "text/plain": [
       "              age\n",
       "income           \n",
       "0       36.758926\n",
       "1       44.006785"
      ],
      "text/html": "<div>\n<style scoped>\n    .dataframe tbody tr th:only-of-type {\n        vertical-align: middle;\n    }\n\n    .dataframe tbody tr th {\n        vertical-align: top;\n    }\n\n    .dataframe thead th {\n        text-align: right;\n    }\n</style>\n<table border=\"1\" class=\"dataframe\">\n  <thead>\n    <tr style=\"text-align: right;\">\n      <th></th>\n      <th>age</th>\n    </tr>\n    <tr>\n      <th>income</th>\n      <th></th>\n    </tr>\n  </thead>\n  <tbody>\n    <tr>\n      <th>0</th>\n      <td>36.758926</td>\n    </tr>\n    <tr>\n      <th>1</th>\n      <td>44.006785</td>\n    </tr>\n  </tbody>\n</table>\n</div>"
     },
     "metadata": {},
     "execution_count": 32
    }
   ],
   "source": [
    "dataset_copy[['income' , 'age']].groupby(['income']).mean().sort_values('age')"
   ]
  },
  {
   "cell_type": "code",
   "execution_count": 33,
   "metadata": {},
   "outputs": [
    {
     "output_type": "execute_result",
     "data": {
      "text/plain": [
       "    age  workclass  fnlwgt  education  educational-num  marital-status  \\\n",
       "0  25.0          2  226802          4                7               1   \n",
       "1  38.0          2   89814          2                9               0   \n",
       "2  28.0          1  336951          1               12               0   \n",
       "3  44.0          2  160323          1               10               0   \n",
       "5  34.0          2  198693          4                6               1   \n",
       "\n",
       "   occupation  relationship  race  gender  capital-gain  capital-loss  \\\n",
       "0           6             3     2       1             0             0   \n",
       "1           4             0     4       1             0             0   \n",
       "2          10             0     4       1             0             0   \n",
       "3           6             0     2       1          7688             0   \n",
       "5           7             1     4       1             0             0   \n",
       "\n",
       "   hours-per-week  native-country  income        age_bin hours-per-week_bin  \n",
       "0            40.0              38       0  (24.3, 27.95]       (30.4, 40.2]  \n",
       "1            50.0              38       0  (35.25, 38.9]       (40.2, 50.0]  \n",
       "2            40.0              38       1  (27.95, 31.6]       (30.4, 40.2]  \n",
       "3            40.0              38       1  (42.55, 46.2]       (30.4, 40.2]  \n",
       "5            30.0              38       0  (31.6, 35.25]       (20.6, 30.4]  "
      ],
      "text/html": "<div>\n<style scoped>\n    .dataframe tbody tr th:only-of-type {\n        vertical-align: middle;\n    }\n\n    .dataframe tbody tr th {\n        vertical-align: top;\n    }\n\n    .dataframe thead th {\n        text-align: right;\n    }\n</style>\n<table border=\"1\" class=\"dataframe\">\n  <thead>\n    <tr style=\"text-align: right;\">\n      <th></th>\n      <th>age</th>\n      <th>workclass</th>\n      <th>fnlwgt</th>\n      <th>education</th>\n      <th>educational-num</th>\n      <th>marital-status</th>\n      <th>occupation</th>\n      <th>relationship</th>\n      <th>race</th>\n      <th>gender</th>\n      <th>capital-gain</th>\n      <th>capital-loss</th>\n      <th>hours-per-week</th>\n      <th>native-country</th>\n      <th>income</th>\n      <th>age_bin</th>\n      <th>hours-per-week_bin</th>\n    </tr>\n  </thead>\n  <tbody>\n    <tr>\n      <th>0</th>\n      <td>25.0</td>\n      <td>2</td>\n      <td>226802</td>\n      <td>4</td>\n      <td>7</td>\n      <td>1</td>\n      <td>6</td>\n      <td>3</td>\n      <td>2</td>\n      <td>1</td>\n      <td>0</td>\n      <td>0</td>\n      <td>40.0</td>\n      <td>38</td>\n      <td>0</td>\n      <td>(24.3, 27.95]</td>\n      <td>(30.4, 40.2]</td>\n    </tr>\n    <tr>\n      <th>1</th>\n      <td>38.0</td>\n      <td>2</td>\n      <td>89814</td>\n      <td>2</td>\n      <td>9</td>\n      <td>0</td>\n      <td>4</td>\n      <td>0</td>\n      <td>4</td>\n      <td>1</td>\n      <td>0</td>\n      <td>0</td>\n      <td>50.0</td>\n      <td>38</td>\n      <td>0</td>\n      <td>(35.25, 38.9]</td>\n      <td>(40.2, 50.0]</td>\n    </tr>\n    <tr>\n      <th>2</th>\n      <td>28.0</td>\n      <td>1</td>\n      <td>336951</td>\n      <td>1</td>\n      <td>12</td>\n      <td>0</td>\n      <td>10</td>\n      <td>0</td>\n      <td>4</td>\n      <td>1</td>\n      <td>0</td>\n      <td>0</td>\n      <td>40.0</td>\n      <td>38</td>\n      <td>1</td>\n      <td>(27.95, 31.6]</td>\n      <td>(30.4, 40.2]</td>\n    </tr>\n    <tr>\n      <th>3</th>\n      <td>44.0</td>\n      <td>2</td>\n      <td>160323</td>\n      <td>1</td>\n      <td>10</td>\n      <td>0</td>\n      <td>6</td>\n      <td>0</td>\n      <td>2</td>\n      <td>1</td>\n      <td>7688</td>\n      <td>0</td>\n      <td>40.0</td>\n      <td>38</td>\n      <td>1</td>\n      <td>(42.55, 46.2]</td>\n      <td>(30.4, 40.2]</td>\n    </tr>\n    <tr>\n      <th>5</th>\n      <td>34.0</td>\n      <td>2</td>\n      <td>198693</td>\n      <td>4</td>\n      <td>6</td>\n      <td>1</td>\n      <td>7</td>\n      <td>1</td>\n      <td>4</td>\n      <td>1</td>\n      <td>0</td>\n      <td>0</td>\n      <td>30.0</td>\n      <td>38</td>\n      <td>0</td>\n      <td>(31.6, 35.25]</td>\n      <td>(20.6, 30.4]</td>\n    </tr>\n  </tbody>\n</table>\n</div>"
     },
     "metadata": {},
     "execution_count": 33
    }
   ],
   "source": [
    "dataset_copy.head()"
   ]
  },
  {
   "cell_type": "code",
   "execution_count": 34,
   "metadata": {},
   "outputs": [],
   "source": [
    "from sklearn.svm import SVR\n",
    "from sklearn.preprocessing import LabelEncoder\n",
    "from sklearn.model_selection import train_test_split"
   ]
  },
  {
   "cell_type": "code",
   "execution_count": 35,
   "metadata": {},
   "outputs": [
    {
     "output_type": "execute_result",
     "data": {
      "text/plain": [
       "   age  workclass  fnlwgt  education  educational-num  marital-status  \\\n",
       "0    8          2   18119          4                6               1   \n",
       "1   21          2    3913          2                8               0   \n",
       "2   11          1   23770          1               11               0   \n",
       "3   27          2   10474          1                9               0   \n",
       "5   17          2   15397          4                5               1   \n",
       "\n",
       "   occupation  relationship  race  gender  capital-gain  capital-loss  \\\n",
       "0           6             3     2       1             0             0   \n",
       "1           4             0     4       1             0             0   \n",
       "2          10             0     4       1             0             0   \n",
       "3           6             0     2       1            96             0   \n",
       "5           7             1     4       1             0             0   \n",
       "\n",
       "   hours-per-week  native-country  income  age_bin  hours-per-week_bin  \n",
       "0              39              38       0        2                   3  \n",
       "1              49              38       0        5                   4  \n",
       "2              39              38       1        3                   3  \n",
       "3              39              38       1        7                   3  \n",
       "5              29              38       0        4                   2  "
      ],
      "text/html": "<div>\n<style scoped>\n    .dataframe tbody tr th:only-of-type {\n        vertical-align: middle;\n    }\n\n    .dataframe tbody tr th {\n        vertical-align: top;\n    }\n\n    .dataframe thead th {\n        text-align: right;\n    }\n</style>\n<table border=\"1\" class=\"dataframe\">\n  <thead>\n    <tr style=\"text-align: right;\">\n      <th></th>\n      <th>age</th>\n      <th>workclass</th>\n      <th>fnlwgt</th>\n      <th>education</th>\n      <th>educational-num</th>\n      <th>marital-status</th>\n      <th>occupation</th>\n      <th>relationship</th>\n      <th>race</th>\n      <th>gender</th>\n      <th>capital-gain</th>\n      <th>capital-loss</th>\n      <th>hours-per-week</th>\n      <th>native-country</th>\n      <th>income</th>\n      <th>age_bin</th>\n      <th>hours-per-week_bin</th>\n    </tr>\n  </thead>\n  <tbody>\n    <tr>\n      <th>0</th>\n      <td>8</td>\n      <td>2</td>\n      <td>18119</td>\n      <td>4</td>\n      <td>6</td>\n      <td>1</td>\n      <td>6</td>\n      <td>3</td>\n      <td>2</td>\n      <td>1</td>\n      <td>0</td>\n      <td>0</td>\n      <td>39</td>\n      <td>38</td>\n      <td>0</td>\n      <td>2</td>\n      <td>3</td>\n    </tr>\n    <tr>\n      <th>1</th>\n      <td>21</td>\n      <td>2</td>\n      <td>3913</td>\n      <td>2</td>\n      <td>8</td>\n      <td>0</td>\n      <td>4</td>\n      <td>0</td>\n      <td>4</td>\n      <td>1</td>\n      <td>0</td>\n      <td>0</td>\n      <td>49</td>\n      <td>38</td>\n      <td>0</td>\n      <td>5</td>\n      <td>4</td>\n    </tr>\n    <tr>\n      <th>2</th>\n      <td>11</td>\n      <td>1</td>\n      <td>23770</td>\n      <td>1</td>\n      <td>11</td>\n      <td>0</td>\n      <td>10</td>\n      <td>0</td>\n      <td>4</td>\n      <td>1</td>\n      <td>0</td>\n      <td>0</td>\n      <td>39</td>\n      <td>38</td>\n      <td>1</td>\n      <td>3</td>\n      <td>3</td>\n    </tr>\n    <tr>\n      <th>3</th>\n      <td>27</td>\n      <td>2</td>\n      <td>10474</td>\n      <td>1</td>\n      <td>9</td>\n      <td>0</td>\n      <td>6</td>\n      <td>0</td>\n      <td>2</td>\n      <td>1</td>\n      <td>96</td>\n      <td>0</td>\n      <td>39</td>\n      <td>38</td>\n      <td>1</td>\n      <td>7</td>\n      <td>3</td>\n    </tr>\n    <tr>\n      <th>5</th>\n      <td>17</td>\n      <td>2</td>\n      <td>15397</td>\n      <td>4</td>\n      <td>5</td>\n      <td>1</td>\n      <td>7</td>\n      <td>1</td>\n      <td>4</td>\n      <td>1</td>\n      <td>0</td>\n      <td>0</td>\n      <td>29</td>\n      <td>38</td>\n      <td>0</td>\n      <td>4</td>\n      <td>2</td>\n    </tr>\n  </tbody>\n</table>\n</div>"
     },
     "metadata": {},
     "execution_count": 35
    }
   ],
   "source": [
    "dataset_copy = dataset_copy.apply(LabelEncoder().fit_transform)\n",
    "dataset_copy.head()"
   ]
  },
  {
   "cell_type": "code",
   "execution_count": 36,
   "metadata": {},
   "outputs": [],
   "source": [
    "dataset_copy['age-hours'] = dataset_copy['age'] * dataset_copy['hours-per-week']\n",
    "dataset_copy['age-hours_bin'] = pd.cut(dataset_copy['age-hours'] , 10)"
   ]
  },
  {
   "cell_type": "code",
   "execution_count": 37,
   "metadata": {},
   "outputs": [],
   "source": [
    "df = dataset_copy.copy()"
   ]
  },
  {
   "cell_type": "code",
   "execution_count": 38,
   "metadata": {},
   "outputs": [
    {
     "output_type": "execute_result",
     "data": {
      "text/plain": [
       "   age  workclass  fnlwgt  educational-num  marital-status  occupation  \\\n",
       "0    8          2   18119                6               1           6   \n",
       "1   21          2    3913                8               0           4   \n",
       "2   11          1   23770               11               0          10   \n",
       "3   27          2   10474                9               0           6   \n",
       "5   17          2   15397                5               1           7   \n",
       "\n",
       "   relationship  race  gender  capital-gain  capital-loss  hours-per-week  \\\n",
       "0             3     2       1             0             0              39   \n",
       "1             0     4       1             0             0              49   \n",
       "2             0     4       1             0             0              39   \n",
       "3             0     2       1            96             0              39   \n",
       "5             1     4       1             0             0              29   \n",
       "\n",
       "   age-hours  \n",
       "0        312  \n",
       "1       1029  \n",
       "2        429  \n",
       "3       1053  \n",
       "5        493  "
      ],
      "text/html": "<div>\n<style scoped>\n    .dataframe tbody tr th:only-of-type {\n        vertical-align: middle;\n    }\n\n    .dataframe tbody tr th {\n        vertical-align: top;\n    }\n\n    .dataframe thead th {\n        text-align: right;\n    }\n</style>\n<table border=\"1\" class=\"dataframe\">\n  <thead>\n    <tr style=\"text-align: right;\">\n      <th></th>\n      <th>age</th>\n      <th>workclass</th>\n      <th>fnlwgt</th>\n      <th>educational-num</th>\n      <th>marital-status</th>\n      <th>occupation</th>\n      <th>relationship</th>\n      <th>race</th>\n      <th>gender</th>\n      <th>capital-gain</th>\n      <th>capital-loss</th>\n      <th>hours-per-week</th>\n      <th>age-hours</th>\n    </tr>\n  </thead>\n  <tbody>\n    <tr>\n      <th>0</th>\n      <td>8</td>\n      <td>2</td>\n      <td>18119</td>\n      <td>6</td>\n      <td>1</td>\n      <td>6</td>\n      <td>3</td>\n      <td>2</td>\n      <td>1</td>\n      <td>0</td>\n      <td>0</td>\n      <td>39</td>\n      <td>312</td>\n    </tr>\n    <tr>\n      <th>1</th>\n      <td>21</td>\n      <td>2</td>\n      <td>3913</td>\n      <td>8</td>\n      <td>0</td>\n      <td>4</td>\n      <td>0</td>\n      <td>4</td>\n      <td>1</td>\n      <td>0</td>\n      <td>0</td>\n      <td>49</td>\n      <td>1029</td>\n    </tr>\n    <tr>\n      <th>2</th>\n      <td>11</td>\n      <td>1</td>\n      <td>23770</td>\n      <td>11</td>\n      <td>0</td>\n      <td>10</td>\n      <td>0</td>\n      <td>4</td>\n      <td>1</td>\n      <td>0</td>\n      <td>0</td>\n      <td>39</td>\n      <td>429</td>\n    </tr>\n    <tr>\n      <th>3</th>\n      <td>27</td>\n      <td>2</td>\n      <td>10474</td>\n      <td>9</td>\n      <td>0</td>\n      <td>6</td>\n      <td>0</td>\n      <td>2</td>\n      <td>1</td>\n      <td>96</td>\n      <td>0</td>\n      <td>39</td>\n      <td>1053</td>\n    </tr>\n    <tr>\n      <th>5</th>\n      <td>17</td>\n      <td>2</td>\n      <td>15397</td>\n      <td>5</td>\n      <td>1</td>\n      <td>7</td>\n      <td>1</td>\n      <td>4</td>\n      <td>1</td>\n      <td>0</td>\n      <td>0</td>\n      <td>29</td>\n      <td>493</td>\n    </tr>\n  </tbody>\n</table>\n</div>"
     },
     "metadata": {},
     "execution_count": 38
    }
   ],
   "source": [
    "drop_elements = ['education', 'native-country', 'income', 'age_bin', 'age-hours_bin','hours-per-week_bin']\n",
    "y = df[\"income\"]\n",
    "X = df.drop(drop_elements, axis=1)\n",
    "X.head()"
   ]
  },
  {
   "cell_type": "code",
   "execution_count": 39,
   "metadata": {},
   "outputs": [],
   "source": [
    "X_train, X_test, y_train, y_test = train_test_split(X, y, test_size=0.4,train_size=0.6, random_state=0)"
   ]
  },
  {
   "cell_type": "code",
   "execution_count": 40,
   "metadata": {},
   "outputs": [],
   "source": [
    "from sklearn.preprocessing import StandardScaler\n",
    "scaler = StandardScaler()\n",
    "X_train = pd.DataFrame(scaler.fit_transform(X_train), columns = X.columns)\n",
    "X_test = pd.DataFrame(scaler.transform(X_test), columns = X.columns)"
   ]
  },
  {
   "cell_type": "code",
   "execution_count": 41,
   "metadata": {},
   "outputs": [
    {
     "output_type": "execute_result",
     "data": {
      "text/plain": [
       "            age  workclass    fnlwgt  educational-num  marital-status  \\\n",
       "0      0.110619  -0.213909  0.706140         1.134596       -0.888531   \n",
       "1      1.321418   1.884539 -1.690583         1.134596       -0.888531   \n",
       "2      0.867368  -2.312358 -1.717765         1.527067       -0.888531   \n",
       "3     -0.419106  -0.213909 -0.851817         1.134596       -0.888531   \n",
       "4      0.488994  -0.213909  0.101838         0.742125        1.513587   \n",
       "...         ...        ...       ...              ...             ...   \n",
       "27100 -0.343431  -0.213909  0.046536         0.742125        1.513587   \n",
       "27101  0.110619   1.884539 -1.097394        -0.042816       -0.888531   \n",
       "27102  0.867368  -0.213909 -0.082680        -0.435287       -0.888531   \n",
       "27103 -0.797481  -1.263134 -0.072905         0.742125        0.312528   \n",
       "27104 -0.116406  -0.213909 -0.085224         0.349654        0.312528   \n",
       "\n",
       "       occupation  relationship      race    gender  capital-gain  \\\n",
       "0       -0.745871     -0.879874  0.388095  0.690558     -0.280326   \n",
       "1       -0.745871     -0.879874  0.388095  0.690558     -0.280326   \n",
       "2        1.490862     -0.879874  0.388095  0.690558     -0.280326   \n",
       "3       -0.745871     -0.879874  0.388095  0.690558     -0.280326   \n",
       "4       -0.994397     -0.255097  0.388095  0.690558     -0.280326   \n",
       "...           ...           ...       ...       ...           ...   \n",
       "27100   -1.491449     -0.255097 -2.004020  0.690558     -0.280326   \n",
       "27101    0.745284     -0.879874  0.388095  0.690558     -0.280326   \n",
       "27102   -0.248819     -0.879874  0.388095  0.690558     -0.280326   \n",
       "27103   -1.491449     -0.255097  0.388095 -1.448104     -0.280326   \n",
       "27104   -0.248819     -0.255097  0.388095  0.690558     -0.280326   \n",
       "\n",
       "       capital-loss  hours-per-week  age-hours  \n",
       "0         -0.206034       -0.078663   0.035533  \n",
       "1         -0.206034       -1.770512  -0.229262  \n",
       "2         -0.206034       -0.078663   0.697521  \n",
       "3         -0.206034        0.344300  -0.292066  \n",
       "4         -0.206034       -0.078663   0.366527  \n",
       "...             ...             ...        ...  \n",
       "27100     -0.206034       -0.078663  -0.361659  \n",
       "27101     -0.206034        1.613186   0.816340  \n",
       "27102     -0.206034       -0.078663   0.697521  \n",
       "27103     -0.206034       -0.078663  -0.758852  \n",
       "27104     -0.206034       -0.078663  -0.163063  \n",
       "\n",
       "[27105 rows x 13 columns]"
      ],
      "text/html": "<div>\n<style scoped>\n    .dataframe tbody tr th:only-of-type {\n        vertical-align: middle;\n    }\n\n    .dataframe tbody tr th {\n        vertical-align: top;\n    }\n\n    .dataframe thead th {\n        text-align: right;\n    }\n</style>\n<table border=\"1\" class=\"dataframe\">\n  <thead>\n    <tr style=\"text-align: right;\">\n      <th></th>\n      <th>age</th>\n      <th>workclass</th>\n      <th>fnlwgt</th>\n      <th>educational-num</th>\n      <th>marital-status</th>\n      <th>occupation</th>\n      <th>relationship</th>\n      <th>race</th>\n      <th>gender</th>\n      <th>capital-gain</th>\n      <th>capital-loss</th>\n      <th>hours-per-week</th>\n      <th>age-hours</th>\n    </tr>\n  </thead>\n  <tbody>\n    <tr>\n      <th>0</th>\n      <td>0.110619</td>\n      <td>-0.213909</td>\n      <td>0.706140</td>\n      <td>1.134596</td>\n      <td>-0.888531</td>\n      <td>-0.745871</td>\n      <td>-0.879874</td>\n      <td>0.388095</td>\n      <td>0.690558</td>\n      <td>-0.280326</td>\n      <td>-0.206034</td>\n      <td>-0.078663</td>\n      <td>0.035533</td>\n    </tr>\n    <tr>\n      <th>1</th>\n      <td>1.321418</td>\n      <td>1.884539</td>\n      <td>-1.690583</td>\n      <td>1.134596</td>\n      <td>-0.888531</td>\n      <td>-0.745871</td>\n      <td>-0.879874</td>\n      <td>0.388095</td>\n      <td>0.690558</td>\n      <td>-0.280326</td>\n      <td>-0.206034</td>\n      <td>-1.770512</td>\n      <td>-0.229262</td>\n    </tr>\n    <tr>\n      <th>2</th>\n      <td>0.867368</td>\n      <td>-2.312358</td>\n      <td>-1.717765</td>\n      <td>1.527067</td>\n      <td>-0.888531</td>\n      <td>1.490862</td>\n      <td>-0.879874</td>\n      <td>0.388095</td>\n      <td>0.690558</td>\n      <td>-0.280326</td>\n      <td>-0.206034</td>\n      <td>-0.078663</td>\n      <td>0.697521</td>\n    </tr>\n    <tr>\n      <th>3</th>\n      <td>-0.419106</td>\n      <td>-0.213909</td>\n      <td>-0.851817</td>\n      <td>1.134596</td>\n      <td>-0.888531</td>\n      <td>-0.745871</td>\n      <td>-0.879874</td>\n      <td>0.388095</td>\n      <td>0.690558</td>\n      <td>-0.280326</td>\n      <td>-0.206034</td>\n      <td>0.344300</td>\n      <td>-0.292066</td>\n    </tr>\n    <tr>\n      <th>4</th>\n      <td>0.488994</td>\n      <td>-0.213909</td>\n      <td>0.101838</td>\n      <td>0.742125</td>\n      <td>1.513587</td>\n      <td>-0.994397</td>\n      <td>-0.255097</td>\n      <td>0.388095</td>\n      <td>0.690558</td>\n      <td>-0.280326</td>\n      <td>-0.206034</td>\n      <td>-0.078663</td>\n      <td>0.366527</td>\n    </tr>\n    <tr>\n      <th>...</th>\n      <td>...</td>\n      <td>...</td>\n      <td>...</td>\n      <td>...</td>\n      <td>...</td>\n      <td>...</td>\n      <td>...</td>\n      <td>...</td>\n      <td>...</td>\n      <td>...</td>\n      <td>...</td>\n      <td>...</td>\n      <td>...</td>\n    </tr>\n    <tr>\n      <th>27100</th>\n      <td>-0.343431</td>\n      <td>-0.213909</td>\n      <td>0.046536</td>\n      <td>0.742125</td>\n      <td>1.513587</td>\n      <td>-1.491449</td>\n      <td>-0.255097</td>\n      <td>-2.004020</td>\n      <td>0.690558</td>\n      <td>-0.280326</td>\n      <td>-0.206034</td>\n      <td>-0.078663</td>\n      <td>-0.361659</td>\n    </tr>\n    <tr>\n      <th>27101</th>\n      <td>0.110619</td>\n      <td>1.884539</td>\n      <td>-1.097394</td>\n      <td>-0.042816</td>\n      <td>-0.888531</td>\n      <td>0.745284</td>\n      <td>-0.879874</td>\n      <td>0.388095</td>\n      <td>0.690558</td>\n      <td>-0.280326</td>\n      <td>-0.206034</td>\n      <td>1.613186</td>\n      <td>0.816340</td>\n    </tr>\n    <tr>\n      <th>27102</th>\n      <td>0.867368</td>\n      <td>-0.213909</td>\n      <td>-0.082680</td>\n      <td>-0.435287</td>\n      <td>-0.888531</td>\n      <td>-0.248819</td>\n      <td>-0.879874</td>\n      <td>0.388095</td>\n      <td>0.690558</td>\n      <td>-0.280326</td>\n      <td>-0.206034</td>\n      <td>-0.078663</td>\n      <td>0.697521</td>\n    </tr>\n    <tr>\n      <th>27103</th>\n      <td>-0.797481</td>\n      <td>-1.263134</td>\n      <td>-0.072905</td>\n      <td>0.742125</td>\n      <td>0.312528</td>\n      <td>-1.491449</td>\n      <td>-0.255097</td>\n      <td>0.388095</td>\n      <td>-1.448104</td>\n      <td>-0.280326</td>\n      <td>-0.206034</td>\n      <td>-0.078663</td>\n      <td>-0.758852</td>\n    </tr>\n    <tr>\n      <th>27104</th>\n      <td>-0.116406</td>\n      <td>-0.213909</td>\n      <td>-0.085224</td>\n      <td>0.349654</td>\n      <td>0.312528</td>\n      <td>-0.248819</td>\n      <td>-0.255097</td>\n      <td>0.388095</td>\n      <td>0.690558</td>\n      <td>-0.280326</td>\n      <td>-0.206034</td>\n      <td>-0.078663</td>\n      <td>-0.163063</td>\n    </tr>\n  </tbody>\n</table>\n<p>27105 rows × 13 columns</p>\n</div>"
     },
     "metadata": {},
     "execution_count": 41
    }
   ],
   "source": [
    "X_train"
   ]
  },
  {
   "cell_type": "code",
   "execution_count": 42,
   "metadata": {},
   "outputs": [],
   "source": [
    "from sklearn import linear_model\n",
    "from collections import Counter\n",
    "#from pandas.plotiing import scatter_matrix\n",
    "from sklearn.linear_model import LogisticRegression # logistic regression\n",
    "from sklearn import svm # support vector machine\n",
    "from sklearn.ensemble import RandomForestClassifier #Random_forest\n",
    "from sklearn.tree import DecisionTreeClassifier #Decision tree\n",
    "from sklearn.naive_bayes import GaussianNB #Naive_bayes\n",
    "from sklearn.neighbors import KNeighborsClassifier #K nearest neighbors\n",
    "from sklearn.preprocessing import LabelEncoder\n",
    "from sklearn.model_selection import train_test_split\n",
    "from sklearn.model_selection import cross_val_score\n",
    "from sklearn.model_selection import cross_val_predict\n",
    "from sklearn.model_selection import KFold\n",
    "from sklearn.metrics import confusion_matrix\n",
    "from sklearn.metrics import classification_report"
   ]
  },
  {
   "cell_type": "code",
   "execution_count": 43,
   "metadata": {},
   "outputs": [
    {
     "output_type": "stream",
     "name": "stdout",
     "text": [
      "The accuracy of the Decision tree model is  0.8050913115661317\n              precision    recall  f1-score   support\n\n       <=50k       0.87      0.87      0.87     13590\n        >50k       0.60      0.62      0.61      4480\n\n    accuracy                           0.81     18070\n   macro avg       0.74      0.74      0.74     18070\nweighted avg       0.81      0.81      0.81     18070\n\n"
     ]
    }
   ],
   "source": [
    "# Decision Tree\n",
    "DT = DecisionTreeClassifier()\n",
    "DT.fit(X_train,y_train)\n",
    "y_pred = DT.predict(X_test)\n",
    "score_DT = DT.score(X_test,y_test)\n",
    "print(\"The accuracy of the Decision tree model is \",score_DT)\n",
    "targets = ['<=50k' , '>50k']\n",
    "print(classification_report(y_test, y_pred,target_names=targets))"
   ]
  },
  {
   "cell_type": "code",
   "execution_count": 44,
   "metadata": {},
   "outputs": [
    {
     "output_type": "stream",
     "name": "stdout",
     "text": [
      "The accuracy of the KNN Model is 0.8353071389042612\n              precision    recall  f1-score   support\n\n       <=50k       0.88      0.90      0.89     13590\n        >50k       0.68      0.63      0.65      4480\n\n    accuracy                           0.84     18070\n   macro avg       0.78      0.77      0.77     18070\nweighted avg       0.83      0.84      0.83     18070\n\n"
     ]
    }
   ],
   "source": [
    "# K-Nearest Neighbors\n",
    "knn = KNeighborsClassifier()\n",
    "knn.fit(X_train, y_train)\n",
    "y_pred = knn.predict(X_test)\n",
    "score_knn = knn.score(X_test,y_test)\n",
    "print('The accuracy of the KNN Model is',score_knn)\n",
    "targets = ['<=50k' , '>50k']\n",
    "print(classification_report(y_test, y_pred,target_names=targets))"
   ]
  },
  {
   "cell_type": "code",
   "execution_count": 45,
   "metadata": {},
   "outputs": [
    {
     "output_type": "stream",
     "name": "stdout",
     "text": [
      "The accuracy of SVC model is 0.8525179856115108\n              precision    recall  f1-score   support\n\n       <=50k       0.87      0.95      0.91     13590\n        >50k       0.78      0.57      0.66      4480\n\n    accuracy                           0.85     18070\n   macro avg       0.82      0.76      0.78     18070\nweighted avg       0.85      0.85      0.84     18070\n\n"
     ]
    }
   ],
   "source": [
    "from sklearn.svm import SVC\n",
    "svc = SVC(gamma=0.22)\n",
    "svc.fit(X_train, y_train)\n",
    "y_pred = svc.predict(X_test)\n",
    "score_svc = svc.score(X_test,y_test)\n",
    "print('The accuracy of SVC model is', score_svc)\n",
    "targets = ['<=50k' , '>50k']\n",
    "print(classification_report(y_test, y_pred,target_names=targets))"
   ]
  },
  {
   "cell_type": "code",
   "execution_count": 46,
   "metadata": {},
   "outputs": [
    {
     "output_type": "stream",
     "name": "stdout",
     "text": [
      "The accuracy of the Logistic Regression model is 0.8344770337576093\n",
      "              precision    recall  f1-score   support\n",
      "\n",
      "       <=50k       0.86      0.93      0.89     13590\n",
      "        >50k       0.72      0.54      0.62      4480\n",
      "\n",
      "    accuracy                           0.83     18070\n",
      "   macro avg       0.79      0.73      0.76     18070\n",
      "weighted avg       0.83      0.83      0.83     18070\n",
      "\n"
     ]
    }
   ],
   "source": [
    "# Logistic Regression\n",
    "LR = LogisticRegression()\n",
    "LR.fit(X_train, y_train)\n",
    "y_pred = LR.predict(X_test)\n",
    "score_LR = LR.score(X_test,y_test)\n",
    "print('The accuracy of the Logistic Regression model is', score_LR)\n",
    "targets = ['<=50k' , '>50k']\n",
    "print(classification_report(y_test, y_pred,target_names=targets))"
   ]
  },
  {
   "cell_type": "code",
   "execution_count": 47,
   "metadata": {},
   "outputs": [
    {
     "output_type": "stream",
     "name": "stdout",
     "text": [
      "The accuracy of the Random Forest Model is 0.8542335362479248\n              precision    recall  f1-score   support\n\n       <=50k       0.88      0.93      0.91     13590\n        >50k       0.75      0.62      0.68      4480\n\n    accuracy                           0.85     18070\n   macro avg       0.82      0.78      0.79     18070\nweighted avg       0.85      0.85      0.85     18070\n\n"
     ]
    }
   ],
   "source": [
    "# Random Forest Classifier\n",
    "RF = RandomForestClassifier()\n",
    "RF.fit(X_train, y_train)\n",
    "y_pred = RF.predict(X_test)\n",
    "score_RF = RF.score(X_test,y_test)\n",
    "print('The accuracy of the Random Forest Model is', score_RF)\n",
    "targets = ['<=50k' , '>50k']\n",
    "print(classification_report(y_test, y_pred,target_names=targets))"
   ]
  },
  {
   "cell_type": "code",
   "execution_count": 48,
   "metadata": {},
   "outputs": [
    {
     "output_type": "stream",
     "name": "stdout",
     "text": [
      "            CLASSIFICATION  ACCURACY\n0       LogisticRegression  0.834477\n1  SupportVectorClassifier  0.852518\n2   RandomForestClassifier  0.854234\n3             DecisionTree  0.803597\n4       K-NearestNeighbors  0.835307\n"
     ]
    }
   ],
   "source": [
    "tabular_form = {'CLASSIFICATION':['LogisticRegression','SupportVectorClassifier','RandomForestClassifier','DecisionTree','K-NearestNeighbors'],\n",
    "                'ACCURACY':[score_LR,score_svc,score_RF,score_DT,score_knn]\n",
    "                }\n",
    "Tabular_form = pd.DataFrame(tabular_form,columns= ['CLASSIFICATION','ACCURACY'])\n",
    "print(Tabular_form)"
   ]
  },
  {
   "cell_type": "code",
   "execution_count": 50,
   "metadata": {},
   "outputs": [
    {
     "output_type": "stream",
     "name": "stdout",
     "text": [
      "+-------------------------+----------+\n|     CLASSIFICATION      | ACCURACY |\n+=========================+==========+\n| LogisticRegression      | 0.834    |\n+-------------------------+----------+\n| SupportVectorClassifier | 0.853    |\n+-------------------------+----------+\n| RandomForestClassifier  | 0.854    |\n+-------------------------+----------+\n| DecisionTree            | 0.804    |\n+-------------------------+----------+\n| K-NearestNeighbors      | 0.835    |\n+-------------------------+----------+\n"
     ]
    }
   ],
   "source": [
    "from texttable import Texttable\n",
    "# texttable takes the first reocrd in the list as the column names\n",
    "# of the table\n",
    "l = [[\"CLASSIFICATION\", \"ACCURACY\"],['LogisticRegression',score_LR],['SupportVectorClassifier',score_svc],['RandomForestClassifier',score_RF],['DecisionTree',score_DT], ['K-NearestNeighbors',score_knn]]\n",
    "table = Texttable()\n",
    "table.add_rows(l)\n",
    "print(table.draw())"
   ]
  }
 ]
}